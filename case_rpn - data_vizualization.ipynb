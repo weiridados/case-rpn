{
 "cells": [
  {
   "cell_type": "code",
   "execution_count": 0,
   "metadata": {
    "application/vnd.databricks.v1+cell": {
     "cellMetadata": {
      "byteLimit": 2048000,
      "rowLimit": 10000
     },
     "inputWidgets": {},
     "nuid": "c27f4fda-8a60-4a85-acfd-43779b80c763",
     "showTitle": false,
     "title": ""
    }
   },
   "outputs": [],
   "source": [
    "import dlt\n",
    "from pyspark.sql.functions import *\n",
    "from pyspark.sql.types import *\n",
    "from pyspark.sql import SparkSession"
   ]
  },
  {
   "cell_type": "code",
   "execution_count": 0,
   "metadata": {
    "application/vnd.databricks.v1+cell": {
     "cellMetadata": {
      "byteLimit": 2048000,
      "rowLimit": 10000
     },
     "inputWidgets": {},
     "nuid": "b2efcc25-cd00-4202-9364-a3d9c2beb669",
     "showTitle": false,
     "title": ""
    }
   },
   "outputs": [],
   "source": [
    "#configs = {\n",
    "#  \"fs.azure.account.auth.type\": \"CustomAccessToken\",\n",
    "#  \"fs.azure.account.custom.token.provider.class\": spark.conf.get(\"spark.databricks.passthrough.adls.gen2.tokenProviderClassName\")\n",
    "#}\n",
    "\n",
    "# Optionally, you can add <directory-name> to the source URI of your mount point.\n",
    "#dbutils.fs.mount(\n",
    "#  source = \"abfss://bronze-parquet-files@weiridatalake.dfs.core.windows.net/\",\n",
    "#  mount_point = \"/mnt/bronze\",\n",
    "#  extra_configs = configs)\n"
   ]
  },
  {
   "cell_type": "code",
   "execution_count": 0,
   "metadata": {
    "application/vnd.databricks.v1+cell": {
     "cellMetadata": {
      "byteLimit": 2048000,
      "rowLimit": 10000
     },
     "inputWidgets": {},
     "nuid": "f4ab14d1-302d-422c-94ac-2a90a40cacbe",
     "showTitle": false,
     "title": ""
    }
   },
   "outputs": [
    {
     "output_type": "execute_result",
     "data": {
      "text/plain": [
       "[FileInfo(path='dbfs:/mnt/bronze/customers.parquet', name='customers.parquet', size=14877, modificationTime=1723753599000),\n",
       " FileInfo(path='dbfs:/mnt/bronze/employees/', name='employees/', size=0, modificationTime=0),\n",
       " FileInfo(path='dbfs:/mnt/bronze/employees.parquet', name='employees.parquet', size=2711, modificationTime=1723753600000),\n",
       " FileInfo(path='dbfs:/mnt/bronze/offices.parquet', name='offices.parquet', size=2362, modificationTime=1723753600000),\n",
       " FileInfo(path='dbfs:/mnt/bronze/orderdetails/', name='orderdetails/', size=0, modificationTime=0),\n",
       " FileInfo(path='dbfs:/mnt/bronze/orderdetails.parquet', name='orderdetails.parquet', size=41567, modificationTime=1723753599000),\n",
       " FileInfo(path='dbfs:/mnt/bronze/orders/', name='orders/', size=0, modificationTime=0),\n",
       " FileInfo(path='dbfs:/mnt/bronze/orders.parquet', name='orders.parquet', size=9837, modificationTime=1723753599000),\n",
       " FileInfo(path='dbfs:/mnt/bronze/payments/', name='payments/', size=0, modificationTime=0),\n",
       " FileInfo(path='dbfs:/mnt/bronze/payments.parquet', name='payments.parquet', size=8355, modificationTime=1723753599000),\n",
       " FileInfo(path='dbfs:/mnt/bronze/product_lines.parquet', name='product_lines.parquet', size=4023, modificationTime=1723753599000),\n",
       " FileInfo(path='dbfs:/mnt/bronze/products/', name='products/', size=0, modificationTime=0),\n",
       " FileInfo(path='dbfs:/mnt/bronze/products.parquet', name='products.parquet', size=17152, modificationTime=1723753600000),\n",
       " FileInfo(path='dbfs:/mnt/bronze/user/', name='user/', size=0, modificationTime=1723794977000)]"
      ]
     },
     "execution_count": 42,
     "metadata": {},
     "output_type": "execute_result"
    }
   ],
   "source": [
    "dbutils.fs.ls(\"/mnt/bronze\")"
   ]
  },
  {
   "cell_type": "code",
   "execution_count": 0,
   "metadata": {
    "application/vnd.databricks.v1+cell": {
     "cellMetadata": {
      "byteLimit": 2048000,
      "rowLimit": 10000
     },
     "inputWidgets": {},
     "nuid": "df96dcec-ecfa-416a-9b40-0e43bfedf938",
     "showTitle": false,
     "title": ""
    }
   },
   "outputs": [],
   "source": [
    "df_user = spark.read.parquet(\"/mnt/bronze/customers.parquet\")\n",
    "df_orders = spark.read.parquet(\"/mnt/bronze/orders.parquet\")\n",
    "df_products = spark.read.parquet(\"/mnt/bronze/products.parquet\")\n",
    "df_payments = spark.read.parquet(\"/mnt/bronze/payments.parquet\")\n",
    "df_orderdetails = spark.read.parquet(\"/mnt/bronze/orderdetails.parquet\")\n",
    "df_employees = spark.read.parquet(\"/mnt/bronze/employees.parquet\")\n",
    "df_offices = spark.read.parquet(\"/mnt/bronze/offices.parquet\")\n",
    "\n"
   ]
  },
  {
   "cell_type": "code",
   "execution_count": 0,
   "metadata": {
    "application/vnd.databricks.v1+cell": {
     "cellMetadata": {
      "byteLimit": 2048000,
      "rowLimit": 10000
     },
     "inputWidgets": {},
     "nuid": "530f27ad-861c-4f32-9d68-5597948f071d",
     "showTitle": false,
     "title": ""
    }
   },
   "outputs": [],
   "source": [
    "write_delta_mode = \"append\"\n",
    "\n",
    "# Processing zone location\n",
    "delta_processing_store_zone = \"/mnt/bronze\"\n",
    "\n",
    "# WRITE INTO DELTA FORMAT\n",
    "\n",
    "df_user.write.mode(write_delta_mode).format(\"delta\").save(delta_processing_store_zone + \"/user/\")\n",
    "df_orders.write.mode(write_delta_mode).format(\"delta\").save(delta_processing_store_zone + \"/orders/\")\n",
    "df_products.write.mode(write_delta_mode).format(\"delta\").save(delta_processing_store_zone + \"/products/\")\n",
    "df_payments.write.mode(write_delta_mode).format(\"delta\").save(delta_processing_store_zone + \"/payments/\")\n",
    "df_orderdetails.write.mode(write_delta_mode).format(\"delta\").save(delta_processing_store_zone + \"/orderdetails/\")\n",
    "df_employees.write.mode(write_delta_mode).format(\"delta\").save(delta_processing_store_zone + \"/employees/\")\n",
    "df_offices.write.mode(write_delta_mode).format(\"delta\").save(delta_processing_store_zone + \"/offices/\")\n"
   ]
  },
  {
   "cell_type": "code",
   "execution_count": 0,
   "metadata": {
    "application/vnd.databricks.v1+cell": {
     "cellMetadata": {
      "byteLimit": 2048000,
      "implicitDf": true,
      "rowLimit": 10000
     },
     "inputWidgets": {},
     "nuid": "d1263c55-c962-46a0-9df4-124cdbbc7ace",
     "showTitle": false,
     "title": ""
    }
   },
   "outputs": [
    {
     "output_type": "display_data",
     "data": {
      "text/html": [
       "<style scoped>\n",
       "  .table-result-container {\n",
       "    max-height: 300px;\n",
       "    overflow: auto;\n",
       "  }\n",
       "  table, th, td {\n",
       "    border: 1px solid black;\n",
       "    border-collapse: collapse;\n",
       "  }\n",
       "  th, td {\n",
       "    padding: 5px;\n",
       "  }\n",
       "  th {\n",
       "    text-align: left;\n",
       "  }\n",
       "</style><div class='table-result-container'><table class='table-result'><thead style='background-color: white'><tr></tr></thead><tbody></tbody></table></div>"
      ]
     },
     "metadata": {
      "application/vnd.databricks.v1+output": {
       "addedWidgets": {},
       "aggData": [],
       "aggError": "",
       "aggOverflow": false,
       "aggSchema": [],
       "aggSeriesLimitReached": false,
       "aggType": "",
       "arguments": {},
       "columnCustomDisplayInfos": {},
       "data": [],
       "datasetInfos": [],
       "dbfsResultPath": null,
       "isJsonSchema": true,
       "metadata": {
        "dataframeName": null
       },
       "overflow": false,
       "plotOptions": {
        "customPlotOptions": {},
        "displayType": "table",
        "pivotAggregation": null,
        "pivotColumns": null,
        "xColumns": null,
        "yColumns": null
       },
       "removedWidgets": [],
       "schema": [],
       "type": "table"
      }
     },
     "output_type": "display_data"
    }
   ],
   "source": [
    "%sql\n",
    "\n",
    "CREATE DATABASE IF NOT EXISTS case_rpn_database_delta"
   ]
  },
  {
   "cell_type": "code",
   "execution_count": 0,
   "metadata": {
    "application/vnd.databricks.v1+cell": {
     "cellMetadata": {
      "byteLimit": 2048000,
      "implicitDf": true,
      "rowLimit": 10000
     },
     "inputWidgets": {},
     "nuid": "dd201547-97c2-41ba-b675-bac38032ca2c",
     "showTitle": false,
     "title": ""
    }
   },
   "outputs": [
    {
     "output_type": "display_data",
     "data": {
      "text/html": [
       "<style scoped>\n",
       "  .table-result-container {\n",
       "    max-height: 300px;\n",
       "    overflow: auto;\n",
       "  }\n",
       "  table, th, td {\n",
       "    border: 1px solid black;\n",
       "    border-collapse: collapse;\n",
       "  }\n",
       "  th, td {\n",
       "    padding: 5px;\n",
       "  }\n",
       "  th {\n",
       "    text-align: left;\n",
       "  }\n",
       "</style><div class='table-result-container'><table class='table-result'><thead style='background-color: white'><tr><th>num_affected_rows</th><th>num_inserted_rows</th></tr></thead><tbody></tbody></table></div>"
      ]
     },
     "metadata": {
      "application/vnd.databricks.v1+output": {
       "addedWidgets": {},
       "aggData": [],
       "aggError": "",
       "aggOverflow": false,
       "aggSchema": [],
       "aggSeriesLimitReached": false,
       "aggType": "",
       "arguments": {},
       "columnCustomDisplayInfos": {},
       "data": [],
       "datasetInfos": [],
       "dbfsResultPath": null,
       "isJsonSchema": true,
       "metadata": {
        "dataframeName": "_sqldf",
        "executionCount": 45
       },
       "overflow": false,
       "plotOptions": {
        "customPlotOptions": {},
        "displayType": "table",
        "pivotAggregation": null,
        "pivotColumns": null,
        "xColumns": null,
        "yColumns": null
       },
       "removedWidgets": [],
       "schema": [
        {
         "metadata": "{}",
         "name": "num_affected_rows",
         "type": "\"long\""
        },
        {
         "metadata": "{}",
         "name": "num_inserted_rows",
         "type": "\"long\""
        }
       ],
       "type": "table"
      }
     },
     "output_type": "display_data"
    }
   ],
   "source": [
    "%sql\n",
    "\n",
    "USE case_rpn_database_delta;\n",
    "\n",
    "DROP TABLE IF EXISTS customers_bronze;\n",
    "DROP TABLE IF EXISTS orders_bronze;\n",
    "DROP TABLE IF EXISTS products_bronze;\n",
    "DROP TABLE IF EXISTS payments_bronze;\n",
    "DROP TABLE IF EXISTS order_details_bronze;\n",
    "DROP TABLE IF EXISTS employees_bronze;\n",
    "DROP TABLE IF EXISTS offices_bronze;\n",
    "\n",
    "CREATE TABLE customers_bronze AS \n",
    "SELECT * FROM delta.`/mnt/bronze/user/`;\n",
    "\n",
    "CREATE TABLE orders_bronze AS \n",
    "SELECT * FROM delta.`/mnt/bronze/orders/`;\n",
    "\n",
    "CREATE TABLE products_bronze AS \n",
    "SELECT * FROM delta.`/mnt/bronze/products/`;\n",
    "\n",
    "CREATE TABLE payments_bronze AS \n",
    "SELECT * FROM delta.`/mnt/bronze/payments/`;\n",
    "\n",
    "CREATE TABLE order_details_bronze AS \n",
    "SELECT * FROM delta.`/mnt/bronze/orderdetails/`;\n",
    "\n",
    "CREATE TABLE employees_bronze AS \n",
    "SELECT * FROM delta.`/mnt/bronze/employees/`;\n",
    "\n",
    "CREATE TABLE offices_bronze AS \n",
    "SELECT * FROM delta.`/mnt/bronze/offices/`;"
   ]
  },
  {
   "cell_type": "code",
   "execution_count": 0,
   "metadata": {
    "application/vnd.databricks.v1+cell": {
     "cellMetadata": {
      "byteLimit": 2048000,
      "implicitDf": true,
      "rowLimit": 10000
     },
     "inputWidgets": {},
     "nuid": "14598a11-73ce-4a8f-bcfe-fd3c0daf0b9d",
     "showTitle": false,
     "title": ""
    }
   },
   "outputs": [
    {
     "output_type": "display_data",
     "data": {
      "text/html": [
       "<style scoped>\n",
       "  .table-result-container {\n",
       "    max-height: 300px;\n",
       "    overflow: auto;\n",
       "  }\n",
       "  table, th, td {\n",
       "    border: 1px solid black;\n",
       "    border-collapse: collapse;\n",
       "  }\n",
       "  th, td {\n",
       "    padding: 5px;\n",
       "  }\n",
       "  th {\n",
       "    text-align: left;\n",
       "  }\n",
       "</style><div class='table-result-container'><table class='table-result'><thead style='background-color: white'><tr><th>country</th><th>qtd_cancelled</th></tr></thead><tbody><tr><td>New Zealand</td><td>144</td></tr><tr><td>Sweden</td><td>72</td></tr><tr><td>Spain</td><td>72</td></tr><tr><td>USA</td><td>72</td></tr><tr><td>UK</td><td>72</td></tr><tr><td>Russia</td><td>0</td></tr><tr><td>Philippines</td><td>0</td></tr><tr><td>Singapore</td><td>0</td></tr><tr><td>Germany</td><td>0</td></tr><tr><td>France</td><td>0</td></tr><tr><td>Belgium</td><td>0</td></tr><tr><td>Finland</td><td>0</td></tr><tr><td>Italy</td><td>0</td></tr><tr><td>Norway</td><td>0</td></tr><tr><td>Denmark</td><td>0</td></tr><tr><td>Ireland</td><td>0</td></tr><tr><td>Hong Kong</td><td>0</td></tr><tr><td>Israel</td><td>0</td></tr><tr><td>Norway  </td><td>0</td></tr><tr><td>Switzerland</td><td>0</td></tr><tr><td>Canada</td><td>0</td></tr><tr><td>Japan</td><td>0</td></tr><tr><td>Poland</td><td>0</td></tr><tr><td>Portugal</td><td>0</td></tr><tr><td>Australia</td><td>0</td></tr><tr><td>Austria</td><td>0</td></tr><tr><td>South Africa</td><td>0</td></tr><tr><td>Netherlands</td><td>0</td></tr></tbody></table></div>"
      ]
     },
     "metadata": {
      "application/vnd.databricks.v1+output": {
       "addedWidgets": {},
       "aggData": [],
       "aggError": "",
       "aggOverflow": false,
       "aggSchema": [],
       "aggSeriesLimitReached": false,
       "aggType": "",
       "arguments": {},
       "columnCustomDisplayInfos": {},
       "data": [
        [
         "New Zealand",
         144
        ],
        [
         "Sweden",
         72
        ],
        [
         "Spain",
         72
        ],
        [
         "USA",
         72
        ],
        [
         "UK",
         72
        ],
        [
         "Russia",
         0
        ],
        [
         "Philippines",
         0
        ],
        [
         "Singapore",
         0
        ],
        [
         "Germany",
         0
        ],
        [
         "France",
         0
        ],
        [
         "Belgium",
         0
        ],
        [
         "Finland",
         0
        ],
        [
         "Italy",
         0
        ],
        [
         "Norway",
         0
        ],
        [
         "Denmark",
         0
        ],
        [
         "Ireland",
         0
        ],
        [
         "Hong Kong",
         0
        ],
        [
         "Israel",
         0
        ],
        [
         "Norway  ",
         0
        ],
        [
         "Switzerland",
         0
        ],
        [
         "Canada",
         0
        ],
        [
         "Japan",
         0
        ],
        [
         "Poland",
         0
        ],
        [
         "Portugal",
         0
        ],
        [
         "Australia",
         0
        ],
        [
         "Austria",
         0
        ],
        [
         "South Africa",
         0
        ],
        [
         "Netherlands",
         0
        ]
       ],
       "datasetInfos": [],
       "dbfsResultPath": null,
       "isJsonSchema": true,
       "metadata": {
        "dataframeName": "_sqldf",
        "executionCount": 7
       },
       "overflow": false,
       "plotOptions": {
        "customPlotOptions": {},
        "displayType": "table",
        "pivotAggregation": null,
        "pivotColumns": null,
        "xColumns": null,
        "yColumns": null
       },
       "removedWidgets": [],
       "schema": [
        {
         "metadata": "{}",
         "name": "country",
         "type": "\"string\""
        },
        {
         "metadata": "{}",
         "name": "qtd_cancelled",
         "type": "\"long\""
        }
       ],
       "type": "table"
      }
     },
     "output_type": "display_data"
    }
   ],
   "source": [
    "%sql\n",
    "\n",
    "USE case_rpn_database_delta;\n",
    "\n",
    "select c.country, \n",
    "       count(case when o.status = 'Cancelled' then 1 else null end) as qtd_cancelled\n",
    "from customers_bronze c\n",
    "left join orders_bronze o on c.customer_number = o.customer_number\n",
    "group by c.country\n",
    "order by qtd_cancelled desc\n"
   ]
  },
  {
   "cell_type": "code",
   "execution_count": 0,
   "metadata": {
    "application/vnd.databricks.v1+cell": {
     "cellMetadata": {
      "byteLimit": 2048000,
      "implicitDf": true,
      "rowLimit": 10000
     },
     "inputWidgets": {},
     "nuid": "12d938de-670d-4308-9f7d-d92d029f5d37",
     "showTitle": false,
     "title": ""
    }
   },
   "outputs": [
    {
     "output_type": "display_data",
     "data": {
      "text/html": [
       "<style scoped>\n",
       "  .table-result-container {\n",
       "    max-height: 300px;\n",
       "    overflow: auto;\n",
       "  }\n",
       "  table, th, td {\n",
       "    border: 1px solid black;\n",
       "    border-collapse: collapse;\n",
       "  }\n",
       "  th, td {\n",
       "    padding: 5px;\n",
       "  }\n",
       "  th {\n",
       "    text-align: left;\n",
       "  }\n",
       "</style><div class='table-result-container'><table class='table-result'><thead style='background-color: white'><tr><th>last_name</th><th>first_name</th><th>email</th><th>job_title</th><th>country</th></tr></thead><tbody><tr><td>Nishi</td><td>Mami</td><td>****@classicmodelcars.com</td><td>Sales Rep</td><td>Japan</td></tr><tr><td>Kato</td><td>Yoshimi</td><td>****@classicmodelcars.com</td><td>Sales Rep</td><td>Japan</td></tr><tr><td>Nishi</td><td>Mami</td><td>****@classicmodelcars.com</td><td>Sales Rep</td><td>Japan</td></tr><tr><td>Kato</td><td>Yoshimi</td><td>****@classicmodelcars.com</td><td>Sales Rep</td><td>Japan</td></tr></tbody></table></div>"
      ]
     },
     "metadata": {
      "application/vnd.databricks.v1+output": {
       "addedWidgets": {},
       "aggData": [],
       "aggError": "",
       "aggOverflow": false,
       "aggSchema": [],
       "aggSeriesLimitReached": false,
       "aggType": "",
       "arguments": {},
       "columnCustomDisplayInfos": {},
       "data": [
        [
         "Nishi",
         "Mami",
         "****@classicmodelcars.com",
         "Sales Rep",
         "Japan"
        ],
        [
         "Kato",
         "Yoshimi",
         "****@classicmodelcars.com",
         "Sales Rep",
         "Japan"
        ],
        [
         "Nishi",
         "Mami",
         "****@classicmodelcars.com",
         "Sales Rep",
         "Japan"
        ],
        [
         "Kato",
         "Yoshimi",
         "****@classicmodelcars.com",
         "Sales Rep",
         "Japan"
        ]
       ],
       "datasetInfos": [],
       "dbfsResultPath": null,
       "isJsonSchema": true,
       "metadata": {
        "dataframeName": "_sqldf",
        "executionCount": 48
       },
       "overflow": false,
       "plotOptions": {
        "customPlotOptions": {},
        "displayType": "table",
        "pivotAggregation": null,
        "pivotColumns": null,
        "xColumns": null,
        "yColumns": null
       },
       "removedWidgets": [],
       "schema": [
        {
         "metadata": "{}",
         "name": "last_name",
         "type": "\"string\""
        },
        {
         "metadata": "{}",
         "name": "first_name",
         "type": "\"string\""
        },
        {
         "metadata": "{}",
         "name": "email",
         "type": "\"string\""
        },
        {
         "metadata": "{}",
         "name": "job_title",
         "type": "\"string\""
        },
        {
         "metadata": "{}",
         "name": "country",
         "type": "\"string\""
        }
       ],
       "type": "table"
      }
     },
     "output_type": "display_data"
    }
   ],
   "source": [
    "%sql\n",
    "SELECT \n",
    "    e.last_name, \n",
    "    e.first_name, \n",
    "    REGEXP_REPLACE(e.email, '^[^@]+', '****') AS email,\n",
    "    e.job_title,\n",
    "    o.country\n",
    "FROM employees_bronze e \n",
    "LEFT JOIN offices_bronze o ON e.office_code = o.office_code \n",
    "WHERE e.job_title = 'Sales Rep' \n",
    "  AND o.country = 'Japan'\n"
   ]
  },
  {
   "cell_type": "code",
   "execution_count": 0,
   "metadata": {
    "application/vnd.databricks.v1+cell": {
     "cellMetadata": {
      "byteLimit": 2048000,
      "implicitDf": true,
      "rowLimit": 10000
     },
     "inputWidgets": {},
     "nuid": "0b87698e-e91f-4224-bb5a-5f492769fc0e",
     "showTitle": false,
     "title": ""
    }
   },
   "outputs": [
    {
     "output_type": "display_data",
     "data": {
      "text/html": [
       "<style scoped>\n",
       "  .table-result-container {\n",
       "    max-height: 300px;\n",
       "    overflow: auto;\n",
       "  }\n",
       "  table, th, td {\n",
       "    border: 1px solid black;\n",
       "    border-collapse: collapse;\n",
       "  }\n",
       "  th, td {\n",
       "    padding: 5px;\n",
       "  }\n",
       "  th {\n",
       "    text-align: left;\n",
       "  }\n",
       "</style><div class='table-result-container'><table class='table-result'><thead style='background-color: white'><tr><th>product_line</th><th>total_amount</th></tr></thead><tbody><tr><td>Motorcycles</td><td>5458582574645.76</td></tr><tr><td>Vintage Cars</td><td>10833488306599.68</td></tr><tr><td>Ships</td><td>2032377274506.24</td></tr><tr><td>Trucks and Buses</td><td>11007172838246.40</td></tr><tr><td>Classic Cars</td><td>27079614006779.52</td></tr><tr><td>Trains</td><td>2265794873159.04</td></tr><tr><td>Planes</td><td>2139757406864.64</td></tr></tbody></table></div>"
      ]
     },
     "metadata": {
      "application/vnd.databricks.v1+output": {
       "addedWidgets": {},
       "aggData": [],
       "aggError": "",
       "aggOverflow": false,
       "aggSchema": [],
       "aggSeriesLimitReached": false,
       "aggType": "",
       "arguments": {},
       "columnCustomDisplayInfos": {},
       "data": [
        [
         "Motorcycles",
         "5458582574645.76"
        ],
        [
         "Vintage Cars",
         "10833488306599.68"
        ],
        [
         "Ships",
         "2032377274506.24"
        ],
        [
         "Trucks and Buses",
         "11007172838246.40"
        ],
        [
         "Classic Cars",
         "27079614006779.52"
        ],
        [
         "Trains",
         "2265794873159.04"
        ],
        [
         "Planes",
         "2139757406864.64"
        ]
       ],
       "datasetInfos": [],
       "dbfsResultPath": null,
       "isJsonSchema": true,
       "metadata": {
        "dataframeName": "_sqldf",
        "executionCount": 1
       },
       "overflow": false,
       "plotOptions": {
        "customPlotOptions": {},
        "displayType": "table",
        "pivotAggregation": null,
        "pivotColumns": null,
        "xColumns": null,
        "yColumns": null
       },
       "removedWidgets": [],
       "schema": [
        {
         "metadata": "{}",
         "name": "product_line",
         "type": "\"string\""
        },
        {
         "metadata": "{}",
         "name": "total_amount",
         "type": "\"decimal(34,2)\""
        }
       ],
       "type": "table"
      }
     },
     "output_type": "display_data"
    }
   ],
   "source": [
    "%sql\n",
    "\n",
    "USE case_rpn_database_delta;\n",
    "\n",
    "SELECT \n",
    "    p2.product_line, \n",
    "    ROUND(SUM(p.amount * o2.quantity_ordered), 2) AS total_amount\n",
    "FROM customers_bronze c\n",
    "LEFT JOIN orders_bronze o ON c.customer_number = o.customer_number\n",
    "LEFT JOIN payments_bronze p ON c.customer_number = p.customer_number\n",
    "LEFT JOIN order_details_bronze o2 ON o2.order_number = o.order_number \n",
    "LEFT JOIN products_bronze p2 ON p2.product_code = o2.product_code \n",
    "WHERE p2.product_line IS NOT NULL \n",
    "  AND o.status = 'Shipped' \n",
    "  AND YEAR(o.order_date) = 2005\n",
    "GROUP BY p2.product_line\n"
   ]
  },
  {
   "cell_type": "code",
   "execution_count": 0,
   "metadata": {
    "application/vnd.databricks.v1+cell": {
     "cellMetadata": {
      "byteLimit": 2048000,
      "implicitDf": true,
      "rowLimit": 10000
     },
     "inputWidgets": {},
     "nuid": "bba43be1-3554-4451-b433-238775fadf7b",
     "showTitle": false,
     "title": ""
    }
   },
   "outputs": [
    {
     "output_type": "display_data",
     "data": {
      "text/html": [
       "<style scoped>\n",
       "  .table-result-container {\n",
       "    max-height: 300px;\n",
       "    overflow: auto;\n",
       "  }\n",
       "  table, th, td {\n",
       "    border: 1px solid black;\n",
       "    border-collapse: collapse;\n",
       "  }\n",
       "  th, td {\n",
       "    padding: 5px;\n",
       "  }\n",
       "  th {\n",
       "    text-align: left;\n",
       "  }\n",
       "</style><div class='table-result-container'><table class='table-result'><thead style='background-color: white'><tr><th>last_name</th><th>first_name</th><th>email</th><th>job_title</th><th>country</th></tr></thead><tbody><tr><td>Nishi</td><td>Mami</td><td>****@classicmodelcars.com</td><td>Sales Rep</td><td>Japan</td></tr><tr><td>Kato</td><td>Yoshimi</td><td>****@classicmodelcars.com</td><td>Sales Rep</td><td>Japan</td></tr><tr><td>Nishi</td><td>Mami</td><td>****@classicmodelcars.com</td><td>Sales Rep</td><td>Japan</td></tr><tr><td>Kato</td><td>Yoshimi</td><td>****@classicmodelcars.com</td><td>Sales Rep</td><td>Japan</td></tr></tbody></table></div>"
      ]
     },
     "metadata": {
      "application/vnd.databricks.v1+output": {
       "addedWidgets": {},
       "aggData": [],
       "aggError": "",
       "aggOverflow": false,
       "aggSchema": [],
       "aggSeriesLimitReached": false,
       "aggType": "",
       "arguments": {},
       "columnCustomDisplayInfos": {},
       "data": [
        [
         "Nishi",
         "Mami",
         "****@classicmodelcars.com",
         "Sales Rep",
         "Japan"
        ],
        [
         "Kato",
         "Yoshimi",
         "****@classicmodelcars.com",
         "Sales Rep",
         "Japan"
        ],
        [
         "Nishi",
         "Mami",
         "****@classicmodelcars.com",
         "Sales Rep",
         "Japan"
        ],
        [
         "Kato",
         "Yoshimi",
         "****@classicmodelcars.com",
         "Sales Rep",
         "Japan"
        ]
       ],
       "datasetInfos": [],
       "dbfsResultPath": null,
       "isJsonSchema": true,
       "metadata": {
        "dataframeName": "_sqldf",
        "executionCount": 5
       },
       "overflow": false,
       "plotOptions": {
        "customPlotOptions": {},
        "displayType": "table",
        "pivotAggregation": null,
        "pivotColumns": null,
        "xColumns": null,
        "yColumns": null
       },
       "removedWidgets": [],
       "schema": [
        {
         "metadata": "{}",
         "name": "last_name",
         "type": "\"string\""
        },
        {
         "metadata": "{}",
         "name": "first_name",
         "type": "\"string\""
        },
        {
         "metadata": "{}",
         "name": "email",
         "type": "\"string\""
        },
        {
         "metadata": "{}",
         "name": "job_title",
         "type": "\"string\""
        },
        {
         "metadata": "{}",
         "name": "country",
         "type": "\"string\""
        }
       ],
       "type": "table"
      }
     },
     "output_type": "display_data"
    }
   ],
   "source": [
    "%sql\n",
    "\n",
    "USE case_rpn_database_delta;\n",
    "\n",
    "\n",
    "SELECT \n",
    "    e.last_name, \n",
    "    e.first_name, \n",
    "    REGEXP_REPLACE(e.email, '^[^@]+', '****') AS email,\n",
    "    e.job_title,\n",
    "    o.country\n",
    "FROM employees_bronze e \n",
    "LEFT JOIN offices_bronze o ON e.office_code = o.office_code \n",
    "WHERE e.job_title = 'Sales Rep' \n",
    "  AND o.country = 'Japan'\n"
   ]
  },
  {
   "cell_type": "code",
   "execution_count": 0,
   "metadata": {
    "application/vnd.databricks.v1+cell": {
     "cellMetadata": {},
     "inputWidgets": {},
     "nuid": "65446129-b114-4112-887c-bb19ef0e7a45",
     "showTitle": false,
     "title": ""
    }
   },
   "outputs": [],
   "source": []
  }
 ],
 "metadata": {
  "application/vnd.databricks.v1+notebook": {
   "dashboards": [],
   "environmentMetadata": null,
   "language": "python",
   "notebookMetadata": {
    "mostRecentlyExecutedCommandWithImplicitDF": {
     "commandId": 330229377087611,
     "dataframes": [
      "_sqldf"
     ]
    },
    "pythonIndentUnit": 4
   },
   "notebookName": "case_rpn - data_vizualization",
   "widgets": {}
  }
 },
 "nbformat": 4,
 "nbformat_minor": 0
}
